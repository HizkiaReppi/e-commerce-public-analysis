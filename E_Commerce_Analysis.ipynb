{
 "cells": [
  {
   "cell_type": "markdown",
   "metadata": {},
   "source": [
    "# Data Analysis Project: E-Commerce Public Dataset\n",
    "\n",
    "- Name: Hizkia Jefren Reppi\n",
    "- Email: 21208008@unima.ac.id\n",
    "- Id Dicoding: [Hizkia Jefren Reppi](https://dicoding.com/users/hizkiajefren)"
   ]
  },
  {
   "cell_type": "code",
   "execution_count": null,
   "metadata": {
    "vscode": {
     "languageId": "plaintext"
    }
   },
   "outputs": [],
   "source": []
  }
 ],
 "metadata": {
  "language_info": {
   "name": "python"
  }
 },
 "nbformat": 4,
 "nbformat_minor": 2
}
